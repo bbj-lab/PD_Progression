{
 "cells": [
  {
   "cell_type": "code",
   "execution_count": null,
   "metadata": {},
   "outputs": [],
   "source": [
    "import matplotlib.pyplot as plt \n",
    "import matplotlib\n",
    "\n",
    "import sys\n",
    "print(sys.version)\n",
    "\n",
    "from IPython.core.display import display, HTML\n",
    "display(HTML(\"<style>.container { width:100% !important; }</style>\"))\n",
    "\n",
    "import pandas as pd\n",
    "import numpy as np\n",
    "\n",
    "from palettable.tableau import Tableau_10\n",
    "import umap\n",
    "import numpy as np\n",
    "import statsmodels.api as sm\n",
    "\n",
    "pd.set_option(\"display.max_rows\", 400)\n",
    "import pickle as pkl\n",
    "import pyodbc\n",
    "\n",
    "%matplotlib inline\n",
    "\n",
    "connection_string = (\"DRIVER=/home/bkb12/Staging/lib/libtdsodbc.so; \" + \n",
    "                     \"SERVER=10.117.35.36; \" +\n",
    "                     \"PORT=1401; \" +\n",
    "                     \"UID=bkb12; \" +\n",
    "                     \"PWD=21Prince; \" +\n",
    "                     \"UseNTLMv2=yes;TDS_Version=8.0;\")\n",
    "                        \n",
    "cn = pyodbc.connect(connection_string, autocommit=True)"
   ]
  },
  {
   "cell_type": "code",
   "execution_count": null,
   "metadata": {},
   "outputs": [],
   "source": [
    "query = \"\"\"\n",
    "SELECT ct.EMPI, ct.CoverageStart, ct.CoverageEnd, d.FirstDiag, DATEDIFF(day, ct.CoverageStart, d.FirstDiag) DaysBeforeDiag,\n",
    "       DATEDIFF(day, d.FirstDiag, ct.CoverageEnd) DaysAfterDiag\n",
    "FROM\n",
    "(SELECT EMPI, CAST(FirstEnc as date) CoverageStart, CAST(LastEnc as date) CoverageEnd FROM pd.dbo.CoverageTime) ct\n",
    "JOIN (SELECT EMPI, MIN(CAST(Date as date)) FirstDiag FROM pd.dbo.Dia WHERE Code IN ('332.0', 'G20') GROUP BY EMPI) d\n",
    "ON ct.EMPI = d.EMPI\n",
    "WHERE DATEDIFF(day, ct.CoverageStart, d.FirstDiag) > 365\n",
    "\"\"\"\n",
    "\n",
    "df = pd.read_sql(query, cn)\n"
   ]
  },
  {
   "cell_type": "code",
   "execution_count": null,
   "metadata": {},
   "outputs": [],
   "source": [
    "import seaborn as sns\n",
    "from lifelines.utils import median_survival_times\n",
    "\n",
    "sns.set_context(\"poster\")\n",
    "\n",
    "from lifelines import KaplanMeierFitter\n",
    "plt.figure(figsize=(12, 8))\n",
    "kmf = KaplanMeierFitter(label='Time from Diagnosis Until Last Encounter')\n",
    "kmf.fit(df['DaysAfterDiag']) \n",
    "kmf.survival_function_\n",
    "kmf.cumulative_density_\n",
    "\n",
    "median_ = kmf.median_survival_time_\n",
    "median_confidence_interval_ = median_survival_times(kmf.confidence_interval_)\n",
    "\n",
    "ax = kmf.plot_survival_function()\n",
    "ax.set_xlabel(\"Days from Initial PD Diagnosis\")\n",
    "plt.tight_layout()\n"
   ]
  }
 ],
 "metadata": {
  "kernelspec": {
   "display_name": "sandbox",
   "language": "python",
   "name": "sandbox"
  },
  "language_info": {
   "codemirror_mode": {
    "name": "ipython",
    "version": 3
   },
   "file_extension": ".py",
   "mimetype": "text/x-python",
   "name": "python",
   "nbconvert_exporter": "python",
   "pygments_lexer": "ipython3",
   "version": "3.9.5"
  }
 },
 "nbformat": 4,
 "nbformat_minor": 4
}
